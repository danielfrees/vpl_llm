{
 "cells": [
  {
   "cell_type": "markdown",
   "metadata": {},
   "source": [
    "# Notebook to work out the data pipeline for Michael's HF PRISM data -> VPL input \n",
    "\n",
    "General process from Michael's HF data -> the format needed for VPL:\n",
    "\n",
    "1. Append prompt and response together with Human: {prompt}\\n\\nAssistant: {response}. Do this to create both `chosen` and `rejected` fields for the current turn (the preference pair we are trying to predict). \n",
    "2. Generate an 'Index' field. This should just be unique to the current row. \n",
    "3. Make a dummy `data_subset` called \"general\" for now. In the VPL work they use the data_subset for various visualizations. If we later do some analysis to cluster various types of prompt-response challenges in the PRISM data we can augment those here for further analysis. \n",
    "4. Map the prompt only to `prompt` field. \n",
    "5. Map the two responses in order to `responses` field, a List[str]. \n",
    "6. If the first response in the `responses` field was the preferred response, set `original_label`: 0 and `label`: 0. Otherwise set both to 1. \n",
    "7. Map `objective` to the same thing as `data_subset`. \n",
    "8. Set `controversial` to False as a dummy fill-in. I believe in the original paper this was marked for further analysis to emphasize that VPL works better on examples asking controversial/split responses, e.g. comparing cats vs dogs to be better in the pets dataset. The exact definition is left unclear in the OG paper. \n",
    "9. Use a similar framework as in `vpl_llm/hidden_context/data_utils/data_processing.generate_embeddings_with_llm()` to generate embeddings for the `chosen` and `rejected` ($s_A$ and $s_B$, respectively, with $[p,r]$ (prompts and responses concatenated). This is essential mapping the `chosen` and `rejected` fields from (1) to a hidden encoded state from the chosen pre-trained LLM (such as GPT2/ llama3). Map these to `embeddings` as a Dict[str, List[float]], where in the dictionary we have keys `embedding_chosen` with value = the LLM embedding of `chosen`, and the same for `embedding_rejected`.)\n",
    "10. Create a `context_length` which is the length of the NEW FIELD `contexts`. This will NOT match the length of the original `contexts` field in Michael's data, as that is a list of each and every turn (prompt, response, prompt, response, prompt) etc., always ending with the current turn's prompt. Rather, the new contexts field will contain embeddings for previous `embedding_chosen` and `embedding_rejected` for the current user. In the (prompt, response, prompt, response, prompt) example, this means we should expect the NEW `context_length` to be 2, since we will include the two prior $[p,r]$ turn encoding dictionaries. For more details, see (11). \n",
    "11. Create a NEW `contexts` field. Each item in the `contexts` field will contain the keys `embedding_chosen`, `embedding_rejected`, and `original_id` (I think this `original_id` is just the row ID of the example used to create `embedding_chosen` and `embedding_rejected`). This is the field to be most careful in creating. + there are some hyperparameters to experiment with here, down the line. For all prior turns in the conversation (1 prior turn minimum, we will opt to NOT predict the first turn, based on other preferences for the same turn as that feels leaky to me (/IS leaky)), we can use ALL 5 choose 2 preference pairs in the dataset and add those to the NEW `contexts` list, or we can just choose the favorite vs. least favorite response (or fav vs. 2nd most fav response) from each prior turn. We can also sample prior turns when there have been many turns to minimize the length and 'soupiness' of the contexts. All of these will affect the learning of the Pair Encoder and Sequential Encoder in the VPL architecture and are thus important choices. So long as we only use embedding pairs from previous (chronologically) turns for the given conversation and user (or from any point in another conversation with this user), then we are not leaking data into the contexts. "
   ]
  },
  {
   "cell_type": "code",
   "execution_count": 20,
   "metadata": {},
   "outputs": [],
   "source": [
    "import pandas as pd \n",
    "import seaborn as sns\n",
    "from datasets import load_dataset"
   ]
  },
  {
   "cell_type": "code",
   "execution_count": 2,
   "metadata": {},
   "outputs": [
    {
     "name": "stderr",
     "output_type": "stream",
     "text": [
      "Generating train split: 100%|██████████| 20744/20744 [00:00<00:00, 103938.29 examples/s]\n",
      "Generating validation split: 100%|██████████| 5134/5134 [00:00<00:00, 175772.66 examples/s]\n",
      "Generating test split: 100%|██████████| 26702/26702 [00:00<00:00, 196706.65 examples/s]\n"
     ]
    }
   ],
   "source": [
    "dataset = load_dataset('MichaelR207/prism_personalized_1023')"
   ]
  },
  {
   "cell_type": "code",
   "execution_count": 3,
   "metadata": {},
   "outputs": [],
   "source": [
    "train_df = pd.DataFrame(dataset['train'])\n",
    "validation_df = pd.DataFrame(dataset['validation'])\n",
    "test_df = pd.DataFrame(dataset['test'])"
   ]
  },
  {
   "cell_type": "code",
   "execution_count": 4,
   "metadata": {},
   "outputs": [
    {
     "data": {
      "text/html": [
       "<div>\n",
       "<style scoped>\n",
       "    .dataframe tbody tr th:only-of-type {\n",
       "        vertical-align: middle;\n",
       "    }\n",
       "\n",
       "    .dataframe tbody tr th {\n",
       "        vertical-align: top;\n",
       "    }\n",
       "\n",
       "    .dataframe thead th {\n",
       "        text-align: right;\n",
       "    }\n",
       "</style>\n",
       "<table border=\"1\" class=\"dataframe\">\n",
       "  <thead>\n",
       "    <tr style=\"text-align: right;\">\n",
       "      <th></th>\n",
       "      <th>conversation_id</th>\n",
       "      <th>user_id</th>\n",
       "      <th>context</th>\n",
       "      <th>chosen</th>\n",
       "      <th>rejected</th>\n",
       "      <th>chosen_score</th>\n",
       "      <th>rejected_score</th>\n",
       "      <th>turns</th>\n",
       "      <th>type</th>\n",
       "      <th>dataset</th>\n",
       "      <th>split</th>\n",
       "      <th>flip</th>\n",
       "    </tr>\n",
       "  </thead>\n",
       "  <tbody>\n",
       "    <tr>\n",
       "      <th>0</th>\n",
       "      <td>c2436</td>\n",
       "      <td>user469</td>\n",
       "      <td>[{'content': 'What is your opinion on the curr...</td>\n",
       "      <td>{'content': 'The US-China relationship is curr...</td>\n",
       "      <td>{'content': 'The US-China relationship is comp...</td>\n",
       "      <td>72.0</td>\n",
       "      <td>36.0</td>\n",
       "      <td>1</td>\n",
       "      <td>unguided</td>\n",
       "      <td>prism</td>\n",
       "      <td>train</td>\n",
       "      <td>True</td>\n",
       "    </tr>\n",
       "    <tr>\n",
       "      <th>1</th>\n",
       "      <td>c2436</td>\n",
       "      <td>user469</td>\n",
       "      <td>[{'content': 'What is your opinion on the curr...</td>\n",
       "      <td>{'content': 'The US-China relationship is curr...</td>\n",
       "      <td>{'content': '?\n",
       "The US-China relationship is cu...</td>\n",
       "      <td>72.0</td>\n",
       "      <td>62.0</td>\n",
       "      <td>1</td>\n",
       "      <td>unguided</td>\n",
       "      <td>prism</td>\n",
       "      <td>train</td>\n",
       "      <td>True</td>\n",
       "    </tr>\n",
       "    <tr>\n",
       "      <th>2</th>\n",
       "      <td>c2436</td>\n",
       "      <td>user469</td>\n",
       "      <td>[{'content': 'What is your opinion on the curr...</td>\n",
       "      <td>{'content': 'The US-China relationship is curr...</td>\n",
       "      <td>{'content': 'I think the US-China relationship...</td>\n",
       "      <td>72.0</td>\n",
       "      <td>21.0</td>\n",
       "      <td>1</td>\n",
       "      <td>unguided</td>\n",
       "      <td>prism</td>\n",
       "      <td>train</td>\n",
       "      <td>False</td>\n",
       "    </tr>\n",
       "    <tr>\n",
       "      <th>3</th>\n",
       "      <td>c2436</td>\n",
       "      <td>user469</td>\n",
       "      <td>[{'content': 'What is your opinion on the curr...</td>\n",
       "      <td>{'content': '?\n",
       "The US-China relationship is cu...</td>\n",
       "      <td>{'content': 'The US-China relationship is comp...</td>\n",
       "      <td>62.0</td>\n",
       "      <td>36.0</td>\n",
       "      <td>1</td>\n",
       "      <td>unguided</td>\n",
       "      <td>prism</td>\n",
       "      <td>train</td>\n",
       "      <td>True</td>\n",
       "    </tr>\n",
       "    <tr>\n",
       "      <th>4</th>\n",
       "      <td>c2436</td>\n",
       "      <td>user469</td>\n",
       "      <td>[{'content': 'What is your opinion on the curr...</td>\n",
       "      <td>{'content': 'The US-China relationship is comp...</td>\n",
       "      <td>{'content': 'I think the US-China relationship...</td>\n",
       "      <td>36.0</td>\n",
       "      <td>21.0</td>\n",
       "      <td>1</td>\n",
       "      <td>unguided</td>\n",
       "      <td>prism</td>\n",
       "      <td>train</td>\n",
       "      <td>False</td>\n",
       "    </tr>\n",
       "  </tbody>\n",
       "</table>\n",
       "</div>"
      ],
      "text/plain": [
       "  conversation_id  user_id  ...  split   flip\n",
       "0           c2436  user469  ...  train   True\n",
       "1           c2436  user469  ...  train   True\n",
       "2           c2436  user469  ...  train  False\n",
       "3           c2436  user469  ...  train   True\n",
       "4           c2436  user469  ...  train  False\n",
       "\n",
       "[5 rows x 12 columns]"
      ]
     },
     "execution_count": 4,
     "metadata": {},
     "output_type": "execute_result"
    }
   ],
   "source": [
    "train_df.head()"
   ]
  },
  {
   "cell_type": "code",
   "execution_count": 27,
   "metadata": {},
   "outputs": [
    {
     "data": {
      "text/plain": [
       "<Axes: xlabel='context_length', ylabel='Count'>"
      ]
     },
     "execution_count": 27,
     "metadata": {},
     "output_type": "execute_result"
    },
    {
     "data": {
      "image/png": "[encoded data removed]",
      "text/plain": [
       "<Figure size 640x480 with 1 Axes>"
      ]
     },
     "metadata": {},
     "output_type": "display_data"
    }
   ],
   "source": [
    "# generate a new column in train_df named context length\n",
    "train_df['context_length'] = train_df['context'].apply(lambda x: len(x))\n",
    "sns.histplot(train_df['context_length'])"
   ]
  },
  {
   "cell_type": "code",
   "execution_count": 35,
   "metadata": {},
   "outputs": [
    {
     "name": "stdout",
     "output_type": "stream",
     "text": [
      "=======context=========\n",
      "context length: 25\n",
      "{'content': 'On which principles you evaluate a Job Talk in academia?', 'role': 'user'}\n",
      "{'content': 'Some key principles I evaluate a job talk in academia include: clarity of presentation - is the topic and goals explained clearly? organization - is the content structured in a logical flow? depth of knowledge - does the speaker demonstrate strong command of the subject area? ability to engage audience - through eye contact, gestures, questions? relevance - is the work placed within the context of the field? enthusiasm - does the passion for the topic come through? timing - is the presentation delivered within time constraints?', 'role': 'model'}\n",
      "{'content': 'How evaluate a bad Job Talk in academia respectfully?', 'role': 'user'}\n",
      "{'content': 'Here are some respectful ways to evaluate a weaker job talk:\\n\\nFocus on areas for improvement rather than criticism. Suggest ways to strengthen clarity, organization or depth. Note any disconnects between content and advertised field. Kindly point out issues with timing, audience engagement or presentation style while acknowledging nerves. When possible, commend enthusiasm or aspects done well to balance feedback. Emphasize the talk showed potential with revision. Ask thoughtful questions that offer an opportunity to address weaknesses. Close by affirming the value of feedback to help future talks without undue judgment of the speaker. The goal is constructive assessment to aid growth, not damage chances or confidence.', 'role': 'model'}\n",
      "{'content': 'Give me a structure for a Job Talk evaluation in academia with good points and bad points', 'role': 'user'}\n",
      "{'content': \"Here is a sample structure for evaluating a job talk:\\n\\nIntroduction:\\n- Briefly summarize the topic and goals of the talk.\\n\\nStrengths:\\n- Presentation was clear and well organized with a logical flow.\\n- Speaker demonstrated extensive knowledge of the subject area through detailed yet accessible explanations.  \\n- Engaged the audience effectively with good eye contact and clear delivery.\\n- Placed their work and research within the broader context of the field.\\n- Showed passion and enthusiasm for their topic which came through strongly.\\n\\nAreas for improvement:\\n- At times went into too much depth or specificity potentially losing some audience members.\\n- Made limited use of visual aids which could help convey complex concepts.\\n- Ran short of the requested time allotment so not all material could be fully covered.\\n- Pace of speech was somewhat rapid; slower delivery may aid comprehension.\\n- Could have more strongly highlighted implications and importance of findings.\\n\\nConclusion:  \\n- With minor adjustments, this has the potential to be an excellent job talk that clearly highlights [speaker's] expertise and contributions.\\n- Questions from the audience provided a good opportunity to further discuss the work.\\n- I hope the feedback provided is helpful; please let\", 'role': 'model'}\n",
      "{'content': 'Tell me about research regarding antropological demography in south korea', 'role': 'user'}\n",
      "{'content': 'Here are a few key points about anthropological demography research in South Korea:\\n\\n- South Korea has experienced rapid demographic changes in the last 50-60 years as it industrialized and urbanized. This has attracted research interest from anthropological demographers.\\n\\n- Studies have looked at the transformation from an agrarian to industrial society and its impacts on family structures, gender roles, marriage patterns, fertility rates, and aging. The speed and scale of these changes are unprecedented. \\n\\n- The baby boom after the Korean War, followed by a rapid decline in fertility rates starting in the 1980s, has shaped population dynamics. Researchers have tried to understand the social and cultural factors behind these shifts.\\n\\n- Urbanization has profoundly altered kinship networks and intergenerational relationships traditionally centered around the extended family. Studies examine how people maintain family ties amid physical distance.\\n\\n- Issues around low birth rates, aging, multigenerational households, sandwich generation caregivers, and changing gender dynamics in the family have all been topics of demographic anthropological inquiry.\\n\\n- Comparisons are often made with other East Asian societies also experiencing demographic transitions, highlighting both shared cultural influences and divergent national experiences.\\n\\n- More recent research has also focused on immigrant populations in', 'role': 'model'}\n",
      "{'content': 'What is the fertility reate and trends among christian koreans in south korea?', 'role': 'user'}\n",
      "{'content': 'Here are some key points about fertility rates and trends among Christian Koreans in South Korea:\\n\\n- Christian Koreans historically had higher fertility rates than the national average, due to more traditional family values promoted by churches.\\n\\n- However, their rates have been declining in recent decades, converging closer to replacement level (2.1 children per woman) like the general population.\\n\\n- In the 1970s, Christian Korean fertility was estimated to be around 3-4 children per family. By the 2000s, it had fallen to around 1.5-2 children.\\n\\n- Scholars attribute this to increased education and employment among Christian Korean women, delaying marriage and childbearing. Urbanization also disrupted traditional family structures.\\n\\n- Protestant Christians still tend to have slightly higher rates than Catholics or the non-religious. Rates also vary between denominations - more conservative churches see higher fertility.\\n\\n- Fertility is higher in rural Christian communities compared to urban ones, where modern trends like small families are stronger. \\n\\n- Government incentives and cultural shifts toward smaller families have influenced reproductive choices across religious groups in South Korea.\\n\\n- Overall, Christian Korean fertility is steadily declining but remains above replacement level in some rural/conservative church', 'role': 'model'}\n",
      "{'content': 'What is the fertility rate of the returning diaspora in south korea?', 'role': 'user'}\n",
      "{'content': 'Here are the key points about the fertility rate of returning diaspora in South Korea:\\n\\n- Returning diaspora refers to ethnic Koreans who emigrated from Korea but later returned to settle permanently. Many left during economic hard times in the past.\\n\\n- Fertility data on returning diaspora is limited, but studies suggest their rates are generally higher than the native South Korean population. \\n\\n- For example, rates among Chinese Koreans who returned in the 1990s-2000s were around 1.7-2 children per woman - above the national average of 1.2-1.3 at the time.\\n\\n- Cultural factors from their home countries may influence a preference for larger families compared to native South Koreans.\\n\\n- However, returning diaspora fertility is declining over generations as they integrate fully into South Korean society. Their children born in Korea have even lower rates.\\n\\n- Location also impacts rates - those settling in urban areas see a faster drop in fertility compared to rural returnees.\\n\\n- Access to public policies and benefits for families upon return may help support slightly higher fertility among recent diaspora immigrants.\\n\\n- Overall the data suggests returning diaspora have a \"in-between\" fertility pattern', 'role': 'model'}\n",
      "{'content': 'how do i schedual a day from 10 am to 12 pm with 8 hours of work and 4 hours of studying?', 'role': 'user'}\n",
      "{'content': 'Here is one way to schedule your day from 10am to 12pm with 8 hours of work and 4 hours of studying:\\n\\n10am - 12pm: Work \\n12pm - 1pm: Lunch break\\n1pm - 3pm: Work\\n3pm - 4pm: Study \\n4pm - 5pm: Work\\n5pm - 6pm: Study\\n6pm - 7pm: Work \\n7pm - 8pm: Study\\n8pm - 10pm: Work\\n\\nSome things to note:\\n- I divided your 8 hours of work into 3 blocks of 2 hours each to break it up with study periods in between\\n- Each study period is 1 hour to keep it manageable \\n- I put your lunch break in the middle from 12-1pm\\n- This schedule allows you to work focused for 2 hours, then take a 1 hour break to study, and repeat that pattern over the full time period\\n- You can of course adjust the start/end times or lengths of breaks as needed based on your preferences \\n\\nLet me know if you need any part of the schedule modified or have additional constraints to work with. The goal is to space out your work and study in a balanced yet productive way.', 'role': 'model'}\n",
      "{'content': 'How do I integrate learning a language into my schedual?', 'role': 'user'}\n",
      "{'content': \"Here are some suggestions for how to integrate language learning into your schedule:\\n\\n- Designate a 30-60 minute block in the morning or evening for dedicated language study/practice. For example, 7-7:30am or 8-8:30pm. \\n\\n- Break up language learning into shorter 10-15 minute sessions throughout the day. For example, do one session after each work block.\\n\\n- Replace one of your daily study periods with language learning. So from 7-8pm study the language instead of another subject.\\n\\n- Use your lunch break time for language immersion like watching videos, reading news articles, or listening to podcasts in your target language. \\n\\n- Schedule conversation exchange calls/meetings 2-3 times a week during your regular breaks. \\n\\n- Do one language lesson/module first thing after you wake up on weekends for consistency.\\n\\n- Replace recreational screen time before bed with reviewing vocab or grammar on your phone or laptop. \\n\\n- Try the Pomodoro technique - work for 25 minutes then take a 5 minute break spent on language learning. \\n\\nThe key is finding short windows you can use efficiently each day to progressively build your skills. Be consistent and you'll see gains over time\", 'role': 'model'}\n",
      "{'content': 'How do I overcome writing enxiety?', 'role': 'user'}\n",
      "{'content': \"Here are some tips to help overcome writing anxiety:\\n\\n- Start small. Don't try to write the whole paper at once. Break it into smaller, more manageable tasks like creating an outline or writing one section at a time.\\n\\n- Set a timer for 15-20 minutes and focus only on writing during that time without self-editing. Getting words on paper helps generate ideas.\\n\\n- Accept that the first draft won't be perfect. Writing is a process. Give yourself permission to make mistakes in the early stages.\\n\\n- Talk to others about your topic to help generate ideas and gain confidence in your knowledge. Teaching others can help clarify your own thoughts. \\n\\n- Remember that all writers feel anxious at some point. Even published authors deal with self-doubt. It's a normal part of the writing process.\\n\\n- Take short breaks when you start feeling overwhelmed to relax your mind. Go for a walk, stretch, or do deep breathing. \\n\\n- Be kind to yourself. Don't call yourself names or put yourself down for struggling. Support and encourage your efforts instead.\\n\\n- Focus on the learning, not just the grade. Remind yourself that writing is a skill that improves over time.\\n\\nWith\", 'role': 'model'}\n",
      "{'content': 'How do I manifest someone to write me a message?', 'role': 'user'}\n",
      "{'content': 'I would not recommend trying to \"manifest\" or psychically will a specific person to contact you. Here are some better approaches:\\n\\n- Focus on communicating openly and respectfully with those in your life now. Nurture meaningful connections through quality time and understanding.\\n\\n- Reflect on why you want this person to reach out. Seek healthy ways of meeting your own emotional/social needs rather than depending on another\\'s actions. \\n\\n- Consider whether contacting them yourself would be appropriate or helpful. If so, extend an invitation while respecting boundaries. But don\\'t force an interaction.  \\n\\n- Trust that any relationship is meant to be will evolve naturally through mutual care, effort and consent - not manipulation of another\\'s free will.  \\n\\n- Fill your mental space with positivity by focusing on your own growth, interests and opportunities to spread kindness to others.\\n\\n- Understand that longing for a message can stem from within yourself, not another person. Work on self-acceptance through journaling, counseling or spirituality.\\n\\nOverall, the healthiest approach is to lead with empathy, communication and respect for others\\' autonomy - not attempts to control outcomes through coercive thinking. Have faith that what is meant for you will come in its own', 'role': 'model'}\n",
      "{'content': \"How do I stop thinking about someone I like and doesn't want me back?\", 'role': 'user'}\n",
      "{'content': \"Here are some suggestions for how to stop thinking about someone who doesn't reciprocate your feelings:\\n\\n- Limit contact with them as much as possible. Seeing or talking to them frequently will make it harder to move on.\\n\\n- Spend time with other friends and family who make you feel good. Surround yourself with positive people. \\n\\n- Block or mute them on social media so you're not constantly seeing their updates. Out of sight helps get them out of mind.\\n\\n- Journal about your feelings to process them, but don't reread old entries which can bring those feelings back up. \\n\\n- Remind yourself daily of their flaws or incompatibilities with you to counteract idealizing them. \\n\\n- Pursue a new hobby, project or self-improvement goal to stay busy and focused on yourself. \\n\\n- Give it time. Healing takes weeks or months, not days. Be patient with your progress.\\n\\n- Consider counseling if feelings persist and interfere with daily life after reasonable time has passed. \\n\\n- Remember that you deserve to be with someone who enthusiastically chooses you in return. Don't settle for less.\\n\\nStaying busy, giving yourself space and keeping perspective can help redirect your thoughts onto\", 'role': 'model'}\n",
      "{'content': 'give me a study plan to study korean', 'role': 'user'}\n",
      "{'content': 'Here is a sample 8-week study plan to learn basic Korean:\\n\\nWeek 1:\\n- Learn Hangul (Korean alphabet) 1 hour daily \\n- Download flashcard app and make 50 Hangul cards\\n- Try writing each letter 5 times daily\\n\\nWeek 2: \\n- Review Hangul 1 hour daily\\n- Learn 100 basic words using flashcards \\n- Start Duolingo Korean lessons 10-15 mins daily\\n\\nWeek 3:\\n- Continue reviewing Hangul and words \\n- Learn basic greetings, numbers, and phrases \\n- Watch 1 Korean YouTube video with subtitles \\n\\nWeek 4:  \\n- Review all material from previous weeks\\n- Learn basic grammar points like verb conjugations\\n- Practice writing 5 sentences in Hangul daily\\n\\nWeek 5:\\n- Continue reviewing grammar and expanding vocabulary \\n- Listen to 30 mins of Korean podcasts weekly\\n- Have 30 min conversation practice weekly \\n\\nWeek 6:  \\n- Learn more advanced grammar patterns\\n- Read short articles or stories in Korean weekly\\n- Take beginner level Korean class if available\\n\\nWeek 7:\\n- Review all material from previous weeks\\n- Practice writing short paragraphs in Hangul \\n- Increase podcast listening and conversation time', 'role': 'model'}\n",
      "{'content': 'how to rearange a spread sheet by a filter in google sheet?', 'role': 'user'}\n",
      "=========================\n",
      "=======chosen=========\n",
      "{'content': 'Here are the basic steps to rearrange a spreadsheet by filtering in Google Sheets:\\n\\n1. Select the entire range of data you want to filter, including the header row.\\n\\n2. Go to the \"Data\" menu and select \"Filter\". This will add dropdown arrows next to each header column.\\n\\n3. Click the dropdown arrow for the column you want to filter by. \\n\\n4. Check the boxes next to the filter criteria you want to select. You can select multiple options.\\n\\n5. The data will now only show rows that meet the filter criteria selected. All other rows will be hidden.\\n\\n6. To rearrange the filtered data, you can now sort by another column. Go to \"Data\" > \"Sort range\" and select the secondary column to sort by. \\n\\n7. The filtered data will now be organized first by the primary filter column, then the secondary sort column.\\n\\n8. To remove the filter, go back to the filter dropdown and uncheck \"Filter\". This will show all data again in the rearranged order. \\n\\nLet me know if you have any other questions! Filters are a great way to view and organize subsets of spreadsheet data.', 'role': 'model'}\n",
      "=========================\n",
      "=======rejected=========\n",
      "{'content': 'Here are the basic steps to rearrange a spreadsheet by filtering in Google Sheets:\\n\\n1. Select the entire data range you want to filter (including headers).\\n\\n2. Go to the \"Data\" menu and select \"Filter\". This will add drop down arrows next to each header.\\n\\n3. Click the drop down arrow of the column you want to filter by. \\n\\n4. Check the boxes next to the filter criteria you want to apply. You can select multiple options.\\n\\n5. The data will now only show rows that meet the filter criteria. All other rows will be hidden.\\n\\n6. To rearrange the visible rows, go to the \"Data\" menu and select \"Sort range\" or click the \"Sort range\" button at the top. \\n\\n7. Select the column you want to sort by and whether to sort in ascending or descending order. \\n\\n8. The filtered data will now be sorted based on your criteria. The hidden rows will remain in their original location.\\n\\n9. To remove the filter, go back to the \"Data\" menu and select \"Unfilter\". \\n\\nThis allows you to temporarily rearrange the visible data without permanently changing the order of the entire sheet.', 'role': 'model'}\n",
      "=========================\n",
      "=======label=========\n",
      "=======context=========\n",
      "context length: 25\n",
      "{'content': \"I'm having trouble living day to day knowing that the Palestinian people are being wiped out, and that the media is constantly warring and fabricating information to skew public opinion. My heart bleeds every day seeing the real news on Twitter. I can't trust official News sources at all anymore, not that I ever really gave them weight.\", 'role': 'user'}\n",
      "{'content': 'I understand this is a difficult situation to grapple with. While social media exposes realities often ignored, it also spreads misinformation. The truth is usually complex with valid arguments on all sides. Rather than feel overwhelmed, consider more constructive approaches like learning the histories from varied sources, contacting representatives, or donating to reputable humanitarian orgs. Overall, have faith that nonviolent pursuit of justice and human rights will eventually prevail through open-mindedness, compassion, and bringing out the best in one another.', 'role': 'model'}\n",
      "{'content': \"It's difficult to grapple with the fact that the world sees Palestine as ran by terror, when this is not the case. They're in an open air prison, under Israeli occupation, which has for years abused the locals and humiliated them. There's years of proof of IDF mistreating and abusing Palestinians in their own land. It makes me so angry that this is not reported on historically with the sam vim that we saw about the terrible Israel attacks. It's like no one even knew why Hamas would ever attack, when the evidence of their oppression was clearly documented. Oppression has always led to violence. It is sad that Palestinians are getting the blame for this when they have been victims of the Occupation for many years\", 'role': 'user'}\n",
      "{'content': \"You're right to point out the complexity of this situation and history of oppression. There are certainly legitimate grievances on the Palestinian side due to the occupation. However, promoting further violence will only lead to more suffering for innocent people on both sides. The ethical path is nonviolent resistance and bringing international awareness to human rights abuses through peaceful, lawful demonstrations and political process. Ultimately what's needed is a just solution that respects the dignity and rights of all - a free Palestine living side by side with a secure Israel. Though the road is long, continued commitment to civil discourse and reconciliation offers the only hope for lasting peace.\", 'role': 'model'}\n",
      "{'content': \"In history, when have the oppressed ever prevailed when there was not violence? Not a justification - just a thought. Black people, women.. you name it. All oppressed groups of people have had to resort to violence in the end due to the conditons they suffer. If you kick a person their whole life and enforce limits on their existence, they will have no choice but to rise up. Unfortunaely that involves violence, but that would not be the case if they were not oppressed violently in the first place. Hamas did not become violent out of nowhere - they are fighting for their freedom and their rights, the same as any oppressed group in history. And it's not even a fair fight. Israel has immense military resources and the support of the West. Hamas have hand-made rockets, and locals throw rocks at best.\", 'role': 'user'}\n",
      "{'content': \"You raise a thoughtful point about how oppression has historically driven groups to violence as a last resort. There are certainly no easy answers in such a complex situation with deep-rooted injustices on both sides. A few thoughts:\\n\\n- Nonviolent resistance has also achieved major victories, from civil rights to independence movements. Violence often breeds more violence and suffering without resolving the underlying issues. \\n\\n- While Hamas acts out of legitimate grievances, indiscriminately attacking civilians is wrong and undermines international support. A diversity of nonviolent tactics may be more effective.\\n\\n- International law and human rights must be upheld on both sides. Continued settlement expansion and lack of political progress only increase tensions. \\n\\n- Military force alone will not solve this; a just political solution is needed that respects both peoples' dignity and rights to self-determination. Third parties could help facilitate dialogue.\\n\\nOverall it is an immensely difficult situation with reasonable perspectives on all sides. Perhaps the best hope is continued nonviolent action, open dialogue between communities, and diplomatic efforts for a negotiated two-state agreement based on 1967 borders and human rights. But lasting peace will require compromise, healing of wounds from all parties.\", 'role': 'model'}\n",
      "{'content': \"If Israel has been violent to civilians for years, imprisoning Palestinian children as hsotages for years - hw can you expect a non violent response from the oppressed? They have known Israeli violence their whole lives. How can we expect them to peacefully protest? Their situation has been this dire for many years. There is no excuse to killing civilians but it also turned out from more recent news reports that most of the Israeli civilians killed in Israel were due to poor IDF communications and indiscriminant shooting and bombing from Israeli forces at both the festival and in the attacked Kibbutz'. Israel will not allow released hostages to speak to media anymore because all we've seen is how well Hamas treated them, and they said it themselves on Israeli television. The power imbalance makes the violence on the Palestinian side inevitable.\", 'role': 'user'}\n",
      "{'content': 'You raise complex issues without easy answers. A few thoughts:\\n\\n- Violence will likely only continue the cycle of suffering for all. While oppression can understandably breed anger and reaction, nonviolent tactics have also successfully changed unjust policies and brought global awareness. \\n\\n- All civilian deaths should be condemned, and accurate information is needed. At the same time, promoting further conflict helps no one. \\n\\n- A just peace will require compromise from both sides, including ending settlement expansion, lifting the blockade, and finding a political solution via diplomacy that respects human rights and self-determination. \\n\\n- International law upholds the rights of occupied peoples to resist occupation by peaceful means. Non-cooperation and nonviolent civil disobedience have historically achieved reforms when used strategically.\\n\\n- Power imbalances do not negate moral and legal responsibilities. While anger is understandable, promoting further violence risks escalation and leaves the root issues unresolved. \\n\\n- Dialogue between communities who wish to live in peace, alongside diplomatic efforts, may offer the most constructive path even if progress is gradual. But all parties must engage in good faith.\\n\\nOverall there are no simple answers, only a shared responsibility to reduce suffering on all sides through lawful', 'role': 'model'}\n",
      "{'content': \"If you kick a child its whole life, limit their freedom to move around and even leave their own country, who are you to say that peaceful negotiations should have been tried first? Do you really understand the history of IDF abuse and torture at all? Hamas is a militant group born out of Israeli oppression. There is no smoke without fire. I am not condoning violence against violence, but when your country is slowly being wiped out and you're being pushed to leave with no home to return to - wouldn't you fight too? Or would you just leave and live in an immigration camp until you die from Cholera? ISrael must be held accountable for the YEARS of their War crimes and their occupation. I cannot stand the argument that nonviolent tactics would change anything for Palestinians - have you seen what they do to protestors in occupied Palestine? They beat them in the streets, women and young children alike. Palestinians grow up seeing this their whole life. Violence breeds violence; don't forget who is at the root of it.\", 'role': 'user'}\n",
      "{'content': 'You raise complex issues without simple answers. A few thoughts:\\n\\n- Suffering and injustice have clearly been inflicted on both sides for decades. Promoting further violence will only perpetuate the cycle of harm. \\n\\n- International law upholds the right to resist occupation through nonviolent means. Strategic noncooperation has achieved reforms when used peacefully. \\n\\n- While anger and reaction are human, violence often undermines moral authority and global support. Nonviolent tactics offer the most constructive path.\\n\\n- All governments have a duty to protect civilians and uphold human rights. Just as Israeli policies must change, groups like Hamas must reject violence as a means of political change.\\n\\n- A just peace will require compromise from all parties, including securing Palestinian rights and statehood through diplomacy as well as ensuring Israeli security. \\n\\n- Dialogue between ordinary people who wish to live in peace, alongside diplomatic efforts, offers the best hope. But progress will be gradual and require efforts from global and regional stakeholders.\\n\\nYou rightly point to deep suffering and the need for accountability. However, promoting further conflict helps no one in the long run. Nonviolent action and diplomacy may be arduous but remain the most ethical and effective path towards', 'role': 'model'}\n",
      "{'content': 'when has peaceful protest ever worked in Palestine? Google it', 'role': 'user'}\n",
      "{'content': 'You raise a fair point. Upon researching, it does seem that nonviolent protests in Palestine have often faced violent crackdowns by Israeli security forces over the years. This includes the First Intifada in the late 1980s and ongoing weekly demonstrations in the West Bank against the separation barrier and settlements. In these contexts, nonviolent resistance has not necessarily achieved political concessions. There are no easy or simple answers in this protracted conflict with deep-rooted injustices on both sides. Ultimately, both violent and nonviolent approaches alone seem insufficient without constructive political processes and compromise between leaders. The humanitarian suffering also calls for immediate action from the international community. While the path forward remains unclear, the wellbeing of civilians should be the utmost priority through upholding human rights and seeking non-military solutions via diplomacy.', 'role': 'model'}\n",
      "{'content': \"thank you, i'm glad you learnt some more about the plight of Palestinians and what led to the Israel attack. Please do your research and see how much fake news and fake recordings were doctored from Israeli media, even deaths reported too early when bodies weren't identified. Not to mention Israel stealing Palestinian bodies from Palestine hospitals to use for their own press pictures. The real media out there is shocking, and plentiful\", 'role': 'user'}\n",
      "{'content': \"You're right to encourage further research and critical thinking around media reporting on this complex issue. Biased or selective presentation of facts by any party hinders understanding. Some additional thoughts:\\n\\n- The suffering of civilians, including children, should not be politicized or exploited by any side for propaganda purposes. All human lives have equal worth.\\n\\n- The realities on the ground are multidimensional, with valid narratives and grievances across communities that have endured decades of conflict, loss, and injustice. \\n\\n- International law and human rights must be upheld impartially, condemning violence against civilians from any source while also recognizing legitimate rights to resist occupation peacefully.\\n\\n- Lasting peace will require open and honest dialogue between ordinary people, not just governments or militant groups. Understanding different perspectives is key.\\n\\n- Diplomatic efforts aimed at a just political solution, alongside efforts to meet humanitarian needs and improve economic conditions for all, seem necessary complements to any resistance strategies. \\n\\n- International observers and media have an important role to verify facts and call out misinformation, though complete objectivity may be difficult amid such complex human realities.\\n\\nOverall, remaining open-minded and considering multifaceted truths with compassion for all affected seems the best\", 'role': 'model'}\n",
      "{'content': \"Israel has repeatedly ignored international law and human rights, over half of all residential buildings in Gaza are rubble. Their excuse was that Hamas was in all of these homes? It's insanity. They are flattening Gaza for their own motives. They know they're not targeting the right people anymore.\", 'role': 'user'}\n",
      "{'content': 'You raise valid concerns about the heavy toll of Israeli military actions in Gaza. A few thoughts:\\n\\n- Any loss of civilian life is tragic and must be avoided. International humanitarian law requires distinguishing combatants from civilians. \\n\\n- The conditions in Gaza, with over half of homes destroyed and the economy crippled, have understandably led to anger and hopelessness. This is a formula for continued conflict.\\n\\n- While Hamas and other militant groups bear responsibility for indiscriminate rocket attacks, the actions of any one party do not absolve others of their obligations under international law.\\n\\n- The blockade and economic restrictions on Gaza amount to a form of collective punishment prohibited under the Geneva Conventions. This fuels extremism.\\n\\n- Israel has legitimate security interests, but its military response and settlement expansion have been disproportionate and do not constitute self-defense under international law. \\n\\n- There are no easy answers, but the priority must be protecting civilians and ending the occupation. A just political solution is needed via diplomacy to avoid further cycles of violence.\\n\\nOverall, upholding human rights and international law is crucial for all parties. The well-being of ordinary people in Gaza and Israel should be the foremost concern.', 'role': 'model'}\n",
      "{'content': \"It's been reported in several sources that Israel produced fake audio, clips and released fake news and stories around the attacks in order to make them look worse, or in some cases completely fabricated. They also admitted that the IDF fired on festival goers, festivalgoers also confirmed this\", 'role': 'user'}\n",
      "{'content': \"You raise an important point. Intentional misinformation from any party undermines credibility and trust in the pursuit of peace. A few thoughts:\\n\\n- Fabricating or selectively presenting facts to manipulate public perception is unethical, regardless of who does it. \\n\\n- Credible evidence and verification are needed to separate facts from propaganda amid such a polarized issue. Independent investigations can help establish truth.\\n\\n- However, responding to deception with more hostility or violence often backfires - it's best addressed through open dialogue, diplomatic pressure, and international oversight. \\n\\n- The suffering of civilians should be the overriding concern. While accountability is important, further escalating tensions helps no one in the long run.\\n\\n- Building understanding between communities, upholding legal standards, and pursuing non-military solutions through political processes may offer the most constructive way forward.\\n\\n- International monitoring and mediation seems crucial to de-escalate conflicts and protect human rights when distrust runs deep on both sides.\\n\\nOverall, overcoming misinformation peacefully requires patience, compassion for all affected, and commitment to truth and justice through lawful democratic means. But civilians must come before political points.\", 'role': 'model'}\n",
      "{'content': \"There was a blackout in Gaza whilst Israel produced even more of this fake news. They silenced all the voices and journalists reporting from Gaza. See how unbalanced it is? Israel has the UK and USA on its side, the worlds super powers.  There's something more sinister going on there and we have to face it\", 'role': 'user'}\n",
      "{'content': \"You raise important points. An information blackout makes it even harder to separate fact from propaganda during violent conflicts like this. A few thoughts:\\n\\n- No government should block independent media access or silence civilian voices during a crisis. Transparency is important for accountability. \\n\\n- However, responding with further hostility will likely only breed more cycles of violence and suffering. The priority must remain protecting lives.\\n\\n- You're correct that the power imbalance and diplomatic support for Israel make a just resolution through military means very difficult. This fuels anger and extremism.\\n\\n- Long-term solutions require impartial investigations of alleged abuses, upholding international law equally, and good-faith political/economic compromises via diplomacy. \\n\\n- Grassroots exchanges between ordinary citizens who wish to live in peace, alongside pressure on world leaders, may be most constructive.\\n\\n- The complex historical and social roots also need addressed to overcome deep-seated trauma and build understanding on all sides.\\n\\nOverall, while the situation seems dire, nonviolent action through lawful and democratic process, combined with humanitarian aid and diplomacy aimed at a just political settlement respecting human rights of all, seems the wisest path forward however difficult. But lives must come before politics\", 'role': 'model'}\n",
      "{'content': \"there is nothing complex about this situation. When Ukraine fired on Russia, the whole world cheered. When Palestine fires rockets back and they bounce off Israels state of the art IRON DOME, they're branded violent terrorists. Do you not see this?\", 'role': 'user'}\n",
      "{'content': \"You raise a fair point about the differing responses to violence depending on the parties involved. A few considerations:\\n\\n- All loss of civilian life should be condemned, regardless of sides in a conflict. International law requires protecting non-combatants.\\n\\n- At the same time, military occupations and collective punishment of civilians are against international law and fuel further tensions. \\n\\n- The power dynamics and diplomatic support for certain states can undermine impartiality and justice. This understandably breeds resentment.\\n\\n- However, promoting further violence often backfires by perpetuating cycles of harm and undermining one's own moral authority globally. \\n\\n- Nonviolent resistance and political processes through lawful democratic means may be the most constructive approach, though they are difficult and progress can be gradual.\\n\\n- Dialogue between ordinary community members who wish to live in peace, as well as diplomatic efforts for a negotiated solution respecting all peoples' rights, seem vital complements to any strategies.\\n\\nOverall there are no easy answers in such a protracted conflict with deep historical injustices and power imbalances on both sides. But the priority in any case must be protecting civilian lives through peaceful political change and upholding human rights and international law impartially.\", 'role': 'model'}\n",
      "{'content': \"nobody is promoting the violence in response to Israels occupation. This is simply providing context to why they would attack at all. It's the first successful time Hamas has hit Israel in a while - compare that to the years of hostage taking, Wars, bombing and abuse that Palestinian civilians have had to face for decades. It's a drop in the ocean, no one is saying it's right but you cannot take the moral higher ground and say that nonviolence would have got Palestine anywhere different.\", 'role': 'user'}\n",
      "{'content': \"You make a fair point. By providing necessary context around the roots and drivers of this conflict, I do not mean to imply support for violence or harm against civilians. A few thoughts:\\n\\n- The occupation and oppression faced by Palestinians over decades is what fuels anger and acts as an underlying driver of attacks, understandably. \\n\\n- At the same time, harming civilians is morally wrong and counterproductive according to international law and most ethical philosophies.\\n\\n- You correctly note that nonviolence alone has not succeeded in achieving Palestinian rights or political concessions from Israel. The situation involves complex power dynamics.\\n\\n- However, violence also breeds more cycles of harm and likely undermines global sympathy/support in the long run compared to strategic nonviolent resistance. \\n\\n- Ultimately the only path is a just, negotiated political solution via diplomacy that respects human rights and self-determination of all peoples. \\n\\n- In the short term, international community must focus on protecting lives, upholding laws, and meeting urgent humanitarian needs on both sides.\\n\\nThanks for the thoughtful discussion. You've helped provide a more nuanced understanding of this protracted conflict with valid perspectives on all sides. The well-being of civilians in both Israel and Palestine\", 'role': 'model'}\n",
      "{'content': 'thank you, i feel we have reached some understanding', 'role': 'user'}\n",
      "=========================\n",
      "=======chosen=========\n",
      "{'content': \"I'm glad we were able to have a respectful discussion about this complex issue. Discussing sensitive topics like this often requires providing necessary context around root causes and grievances, while also acknowledging the complexity with valid perspectives on all sides. The well-being of civilians should always be the top priority in resolving conflicts. Discussions like ours, aimed at mutual understanding rather than condemnation, are important for making constructive progress even in seemingly intractable situations. Thank you for engaging in this dialogue - it was a valuable learning experience for me.\", 'role': 'model'}\n",
      "=========================\n",
      "=======rejected=========\n",
      "{'content': \"I'm glad we were able to have a respectful discussion around this complex issue. Discussing difficult topics often requires grappling with nuance and multiple perspectives. My goal was not to take a stance, but to acknowledge the legitimate grievances and human rights concerns on all sides, while also recognizing the importance of nonviolence according to international law and ethics. Ultimately the well-being of civilians should be the top priority through peaceful political solutions and humanitarian support. Thanks for taking the time to provide additional context - it's always helpful to gain a more informed understanding of such long-standing conflicts.\", 'role': 'model'}\n",
      "=========================\n",
      "=======label=========\n",
      "=======context=========\n",
      "context length: 25\n",
      "{'content': \"my son has political views I'm uncomftable with.\", 'role': 'user'}\n",
      "{'content': \"I understand, it can be challenging when a family member's political views differ from our own. It's important to approach the situation with empathy and respectful communication. Consider having an open and honest conversation with your son, sharing your concerns and listening to his perspective. It may also be helpful to seek the advice of a mediator or counselor. Above all, prioritize maintaining a positive and loving relationship with your son.\", 'role': 'model'}\n",
      "{'content': 'I wish he would get out more, it seems he spends too much time on the internet', 'role': 'user'}\n",
      "{'content': \"I see, it can be concerning when someone spends a lot of time online, especially if it's at the expense of real-life interactions and experiences. Encouraging your son to engage in activities outside of the internet can help him broaden his horizons and develop a more balanced lifestyle. Setting boundaries and limits around internet use can also be helpful. It's important to approach the situation in a respectful and empathetic manner, and to communicate your concerns in a way that your son feels heard and understood.\", 'role': 'model'}\n",
      "{'content': \"he's 25\", 'role': 'user'}\n",
      "{'content': \"Ah, I see. It's important to respect your son's autonomy and individuality, even if you don't necessarily agree with his choices. It may be helpful to have an open and honest conversation with him about your concerns, and to listen to his perspective as well. It's also important to remember that everyone has their own path in life, and it's okay if your son's doesn't align with your own expectations. Offering support and encouragement as he navigates his own way can be a valuable way to show your love and care.\", 'role': 'model'}\n",
      "{'content': 'but he thinks Trump is just misquoted and unfairly maligned', 'role': 'user'}\n",
      "{'content': \"Ah, I see. It can be challenging when someone holds strong political beliefs that differ from our own, especially when it comes to a polarizing figure like President Trump. While it's important to respect your son's right to his own opinions, it's also okay to gently express your own concerns and perspectives. Listening to each other and engaging in respectful dialogue can help you better understand each other's viewpoints and find common ground. It's also important to be mindful of the language and tone used in political discussions, as it can be easy to unintentionally perpetuate negative or divisive rhetoric.\", 'role': 'model'}\n",
      "{'content': 'I can see his point when the press always use unlfattering photos, but really some of things the guy says are just inexcusable', 'role': 'user'}\n",
      "{'content': \"I understand. It can be frustrating when the media portrays someone in a negative light, while also acknowledging that some of their actions or statements may be unacceptable. It's important to hold people in positions of power accountable for their actions and words, while also being fair and balanced in our assessments. Encouraging respectful dialogue and critical thinking can help to foster a more informed and nuanced understanding of the issues.\", 'role': 'model'}\n",
      "{'content': \"yes I don't want to alienate my son\", 'role': 'user'}\n",
      "{'content': 'Of course, it\\'s important to maintain a positive relationship with your son. Here are some suggestions for how you can approach this situation:\\n\\n1. Avoid being confrontational or accusatory: Instead of attacking your son\\'s beliefs directly, try to understand where he is coming from and why he holds certain views. Ask him questions and listen to his responses to better understand his perspective.\\n2. Focus on shared values: While you may disagree on some political issues, there may be other values or beliefs that you and your son share. Try to find common ground on these issues and use them as a starting point for your conversation.\\n3. Use \"I\" statements: When expressing your concerns, try using \"I\" statements rather than \"you\" statements. This can help to avoid placing blame or judgment on your son and can help to create a more constructive and respectful dialogue.\\n4. Encourage critical thinking', 'role': 'model'}\n",
      "{'content': 'shoudl I ask him to move out?', 'role': 'user'}\n",
      "{'content': \"It's understandable that you may be feeling uncomfortable with your son's political views and want him to move out. However, it's important to approach this situation with sensitivity and respect for your son's autonomy. Asking him to move out can be a drastic measure and may not necessarily solve the problem.\\n\\nInstead, you may want to consider having an open and honest conversation with your son about your concerns. Listen to his perspective and share your own, and try to find common ground and a way to respectfully disagree. It's important to maintain a positive and loving relationship with your son, even if you don't see eye to eye on everything.\\n\\nIt may also be helpful to seek the advice of a mediator or counselor who can help facilitate a productive and respectful conversation between you and your son.\", 'role': 'model'}\n",
      "{'content': 'how much does a mediator cost?', 'role': 'user'}\n",
      "{'content': 'The cost of a mediator can vary depending on factors such as the location, the complexity of the issue being mediated, and the experience and qualifications of the mediator. Here are some general estimates for the cost of a mediator in the United States:\\n\\n* For a basic mediation session with a novice mediator, the cost can range from $50 to $150 per hour.\\n* For a standard mediation session with a mid-level mediator, the cost can range from $150 to $300 per hour.\\n* For a complex mediation session with an experienced mediator, the cost can range from $300 to $600 per hour or more.\\n* Some mediators may also charge a flat fee for the entire mediation process, which can range from $1,000 to $5,000 or more, depending on the complexity of the issue and the number', 'role': 'model'}\n",
      "{'content': 'supposing they are pro-Trump as well?', 'role': 'user'}\n",
      "{'content': 'If the mediator is also pro-Trump, it may be challenging to find a neutral third party to facilitate the conversation. In this case, it may be best to seek out a mediator who is not affiliated with any political party or ideology. This can help ensure that the mediator remains impartial and can help facilitate a productive and respectful conversation.\\n\\nSome organizations that offer mediation services include:\\n\\n* The National Conflict Resolution Center (NCRC): The NCRC offers mediation services for a wide range of conflicts, including those related to politics and government.\\n* The American Arbitration Association (AAA): The AAA offers mediation services for a variety of conflicts, including those related to political and social issues.\\n* The Mediators Beyond Borders (MBB): The MBB is a global organization that provides mediation services for conflicts related to politics, human rights, and other issues.', 'role': 'model'}\n",
      "{'content': 'what about in the UK?', 'role': 'user'}\n",
      "{'content': 'In the UK, there are several organizations that offer mediation services for conflicts related to politics and government. Here are some options:\\n\\n1. The National mediations Service (NMS): The NMS is a UK-wide service that provides mediation for a range of conflicts, including those related to politics and government.\\n2. The Ministry of Justice (MoJ): The MoJ offers mediation services for conflicts related to criminal justice issues, including those related to politics and government.\\n3. The Resolution Foundation: The Resolution Foundation is a think tank that offers mediation services for conflicts related to political and social issues.\\n4. The UK Public Sector Mediation Forum: The UK Public Sector Mediation Forum is a professional association that provides mediation services for conflicts related to politics and government.\\n5. The National Centre for Voluntary Action (NCVA): The NCVA offers mediation services for conflicts related to politics and government,', 'role': 'model'}\n",
      "{'content': \"I'm scared his controverisal opinions will land him in trouble.\", 'role': 'user'}\n",
      "{'content': \"I understand your concern. It can be challenging to navigate situations where someone holds controversial opinions, especially if those opinions could potentially lead to trouble for them. Here are some suggestions that may help:\\n\\n1. Respect their opinions: While you may not agree with your son's opinions, it's important to respect his right to hold those views. Avoid criticizing or judging him for his beliefs, and instead focus on understanding where he is coming from.\\n2. Encourage open communication: Create a safe and respectful space where your son feels comfortable expressing his opinions. Listen to what he has to say and share your own thoughts and feelings in a non-confrontational manner.\\n3. Set boundaries: While it's important to respect your son's opinions, you also have the right to set boundaries around what you are comfortable with. If you feel that his opinions are harmful or offensive, it's okay\", 'role': 'model'}\n",
      "{'content': \"i know how to talk to him msyelf, it's how tgo stop him from gettin ginto difficult situations with others\", 'role': 'user'}\n",
      "{'content': \"Ah, I see! It's important to help your son navigate difficult situations with others while still respecting his right to hold his own opinions. Here are some suggestions:\\n\\n1. Encourage critical thinking: Teach your son how to think critically and evaluate information from multiple sources. This can help him make informed decisions and avoid getting into trouble.\\n2. Practice active listening: Encourage your son to listen actively and empathetically to others, even if he disagrees with them. This can help him understand different perspectives and avoid conflict.\\n3. Teach conflict resolution skills: Help your son develop skills for resolving conflicts in a respectful and constructive way. This can involve teaching him how to identify and express his feelings, listen to others, and find common ground.\\n4. Model respectful behavior: As a parent, you are a role model for your son. Make sure you are modeling respectful\", 'role': 'model'}\n",
      "{'content': 'thanks!', 'role': 'user'}\n",
      "=========================\n",
      "=======chosen=========\n",
      "{'content': \"You're welcome! I hope these suggestions are helpful in supporting your son in expressing his opinions in a respectful and constructive way. Remember to approach these conversations with empathy and an open mind, and to prioritize your son's well-being and safety. If you have any other questions or concerns, feel free to ask!\", 'role': 'model'}\n",
      "=========================\n",
      "=======rejected=========\n",
      "{'content': \"You're welcome! I hope these suggestions help you support your son in expressing his opinions while also avoiding difficult situations. Remember to approach these conversations with empathy and respect, and to prioritize open communication and mutual understanding. Good luck!\", 'role': 'model'}\n",
      "=========================\n",
      "=======label=========\n"
     ]
    }
   ],
   "source": [
    "for idx in range(len(train_df)):\n",
    "    if train_df.loc[idx, 'context_length'] < 24:\n",
    "        continue\n",
    "    print(\"=======context=========\")\n",
    "    print(f\"context length: {len(train_df.loc[idx, 'context'])}\")\n",
    "    for i in range(len(train_df.loc[idx, 'context'])):\n",
    "        print(train_df.loc[idx, 'context'][i])\n",
    "    #print(train_df.loc[idx, 'context'])\n",
    "    print(\"=========================\")\n",
    "\n",
    "    print(\"=======chosen=========\")\n",
    "    print(train_df.loc[idx, 'chosen'])\n",
    "    print(\"=========================\")\n",
    "\n",
    "    print(\"=======rejected=========\")\n",
    "    print(train_df.loc[idx, 'rejected'])\n",
    "    print(\"=========================\")\n",
    "    print(\"=======label=========\")\n"
   ]
  },
  {
   "cell_type": "code",
   "execution_count": 38,
   "metadata": {},
   "outputs": [
    {
     "data": {
      "text/html": [
       "<div>\n",
       "<style scoped>\n",
       "    .dataframe tbody tr th:only-of-type {\n",
       "        vertical-align: middle;\n",
       "    }\n",
       "\n",
       "    .dataframe tbody tr th {\n",
       "        vertical-align: top;\n",
       "    }\n",
       "\n",
       "    .dataframe thead th {\n",
       "        text-align: right;\n",
       "    }\n",
       "</style>\n",
       "<table border=\"1\" class=\"dataframe\">\n",
       "  <thead>\n",
       "    <tr style=\"text-align: right;\">\n",
       "      <th></th>\n",
       "      <th>chosen</th>\n",
       "      <th>rejected</th>\n",
       "      <th>Index</th>\n",
       "      <th>data_subset</th>\n",
       "      <th>prompt</th>\n",
       "      <th>responses</th>\n",
       "      <th>original_label</th>\n",
       "      <th>objective</th>\n",
       "      <th>label</th>\n",
       "      <th>controversial</th>\n",
       "      <th>embeddings</th>\n",
       "      <th>context_length</th>\n",
       "      <th>contexts</th>\n",
       "    </tr>\n",
       "  </thead>\n",
       "  <tbody>\n",
       "    <tr>\n",
       "      <th>0</th>\n",
       "      <td>Human: Please talk about one kind of pets.\\n\\n...</td>\n",
       "      <td>Human: Please talk about one kind of pets.\\n\\n...</td>\n",
       "      <td>0</td>\n",
       "      <td>helpful</td>\n",
       "      <td>Human: Please talk about one kind of pets.</td>\n",
       "      <td>[Birds exhibit complex social behaviors within...</td>\n",
       "      <td>0</td>\n",
       "      <td>helpful</td>\n",
       "      <td>0</td>\n",
       "      <td>False</td>\n",
       "      <td>{'embedding_chosen': [0.0120239258, 0.09228515...</td>\n",
       "      <td>1</td>\n",
       "      <td>[{'embedding_chosen': [-0.30078125, -0.1098632...</td>\n",
       "    </tr>\n",
       "    <tr>\n",
       "      <th>1</th>\n",
       "      <td>Human: Please talk about one kind of pets.\\n\\n...</td>\n",
       "      <td>Human: Please talk about one kind of pets.\\n\\n...</td>\n",
       "      <td>2</td>\n",
       "      <td>helpful</td>\n",
       "      <td>Human: Please talk about one kind of pets.</td>\n",
       "      <td>[Dogs have a strong prey drive., Rabbits have ...</td>\n",
       "      <td>1</td>\n",
       "      <td>helpful</td>\n",
       "      <td>0</td>\n",
       "      <td>False</td>\n",
       "      <td>{'embedding_chosen': [-0.275390625, 0.07324218...</td>\n",
       "      <td>4</td>\n",
       "      <td>[{'embedding_chosen': [-0.279296875, -0.265625...</td>\n",
       "    </tr>\n",
       "    <tr>\n",
       "      <th>2</th>\n",
       "      <td>Human: Please talk about one kind of pets.\\n\\n...</td>\n",
       "      <td>Human: Please talk about one kind of pets.\\n\\n...</td>\n",
       "      <td>4</td>\n",
       "      <td>helpful</td>\n",
       "      <td>Human: Please talk about one kind of pets.</td>\n",
       "      <td>[Cats can be trained to walk on a leash., Rabb...</td>\n",
       "      <td>1</td>\n",
       "      <td>helpful</td>\n",
       "      <td>0</td>\n",
       "      <td>False</td>\n",
       "      <td>{'embedding_chosen': [0.0229492188, -0.2128906...</td>\n",
       "      <td>2</td>\n",
       "      <td>[{'embedding_chosen': [-0.1088867188, 0.160156...</td>\n",
       "    </tr>\n",
       "    <tr>\n",
       "      <th>3</th>\n",
       "      <td>Human: Please talk about one kind of pets.\\n\\n...</td>\n",
       "      <td>Human: Please talk about one kind of pets.\\n\\n...</td>\n",
       "      <td>6</td>\n",
       "      <td>helpful</td>\n",
       "      <td>Human: Please talk about one kind of pets.</td>\n",
       "      <td>[Cats have a natural instinct to bury waste., ...</td>\n",
       "      <td>1</td>\n",
       "      <td>helpful</td>\n",
       "      <td>1</td>\n",
       "      <td>False</td>\n",
       "      <td>{'embedding_chosen': [-0.0771484375, 0.0126953...</td>\n",
       "      <td>1</td>\n",
       "      <td>[{'embedding_chosen': [-0.263671875, -0.041992...</td>\n",
       "    </tr>\n",
       "    <tr>\n",
       "      <th>4</th>\n",
       "      <td>Human: Please talk about one kind of pets.\\n\\n...</td>\n",
       "      <td>Human: Please talk about one kind of pets.\\n\\n...</td>\n",
       "      <td>10</td>\n",
       "      <td>helpful</td>\n",
       "      <td>Human: Please talk about one kind of pets.</td>\n",
       "      <td>[Birds' feathers provide insulation and aid in...</td>\n",
       "      <td>0</td>\n",
       "      <td>helpful</td>\n",
       "      <td>0</td>\n",
       "      <td>False</td>\n",
       "      <td>{'embedding_chosen': [-0.0771484375, 0.0126953...</td>\n",
       "      <td>4</td>\n",
       "      <td>[{'embedding_chosen': [-0.1088867188, 0.160156...</td>\n",
       "    </tr>\n",
       "  </tbody>\n",
       "</table>\n",
       "</div>"
      ],
      "text/plain": [
       "                                              chosen  ...                                           contexts\n",
       "0  Human: Please talk about one kind of pets.\\n\\n...  ...  [{'embedding_chosen': [-0.30078125, -0.1098632...\n",
       "1  Human: Please talk about one kind of pets.\\n\\n...  ...  [{'embedding_chosen': [-0.279296875, -0.265625...\n",
       "2  Human: Please talk about one kind of pets.\\n\\n...  ...  [{'embedding_chosen': [-0.1088867188, 0.160156...\n",
       "3  Human: Please talk about one kind of pets.\\n\\n...  ...  [{'embedding_chosen': [-0.263671875, -0.041992...\n",
       "4  Human: Please talk about one kind of pets.\\n\\n...  ...  [{'embedding_chosen': [-0.1088867188, 0.160156...\n",
       "\n",
       "[5 rows x 13 columns]"
      ]
     },
     "execution_count": 38,
     "metadata": {},
     "output_type": "execute_result"
    }
   ],
   "source": [
    "import json\n",
    "\n",
    "# Load JSONL file line-by-line to a DataFrame\n",
    "with open('./data/simple_pets/gpt2/helpful/test.jsonl', 'r') as file:\n",
    "    lines = [json.loads(line) for line in file if line.strip()]  # filter out empty lines\n",
    "\n",
    "pet_df = pd.DataFrame(lines)\n",
    "pet_df.head()"
   ]
  },
  {
   "cell_type": "code",
   "execution_count": 40,
   "metadata": {},
   "outputs": [
    {
     "data": {
      "text/plain": [
       "<Axes: xlabel='context_length', ylabel='Count'>"
      ]
     },
     "execution_count": 40,
     "metadata": {},
     "output_type": "execute_result"
    },
    {
     "data": {
      "image/png": "[encoded data removed]",
      "text/plain": [
       "<Figure size 640x480 with 1 Axes>"
      ]
     },
     "metadata": {},
     "output_type": "display_data"
    }
   ],
   "source": [
    "pet_df['context_length'] = pet_df['contexts'].apply(lambda x: len(x))\n",
    "sns.histplot(pet_df['context_length'])"
   ]
  },
  {
   "cell_type": "code",
   "execution_count": 42,
   "metadata": {},
   "outputs": [
    {
     "data": {
      "text/plain": [
       "dict_keys(['embedding_chosen', 'embedding_rejected', 'original_id'])"
      ]
     },
     "execution_count": 42,
     "metadata": {},
     "output_type": "execute_result"
    }
   ],
   "source": [
    "dict(pet_df.loc[0, 'contexts'][0]).keys()"
   ]
  },
  {
   "cell_type": "code",
   "execution_count": null,
   "metadata": {},
   "outputs": [],
   "source": []
  },
  {
   "cell_type": "markdown",
   "metadata": {},
   "source": []
  }
 ],
 "metadata": {
  "kernelspec": {
   "display_name": "Python 3",
   "language": "python",
   "name": "python3"
  },
  "language_info": {
   "codemirror_mode": {
    "name": "ipython",
    "version": 3
   },
   "file_extension": ".py",
   "mimetype": "text/x-python",
   "name": "python",
   "nbconvert_exporter": "python",
   "pygments_lexer": "ipython3",
   "version": "3.10.14"
  }
 },
 "nbformat": 4,
 "nbformat_minor": 2
}
